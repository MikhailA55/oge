{
 "cells": [
  {
   "cell_type": "markdown",
   "id": "5e1125bb",
   "metadata": {},
   "source": [
    "# интерактивный блокнот"
   ]
  },
  {
   "cell_type": "code",
   "execution_count": 25,
   "id": "23955539",
   "metadata": {},
   "outputs": [
    {
     "name": "stdout",
     "output_type": "stream",
     "text": [
      "введите a= 5\n",
      "6\n",
      "[1, 2]\n",
      "a=5 и оно нечетное\n"
     ]
    }
   ],
   "source": [
    "a=int(input(\"введите a= \"))\n",
    "print(a+1)\n",
    "l=[1,2]\n",
    "print(l)\n",
    "if a%2==0 and a!=0:\n",
    "    print(f\"a={a} и оно четное\")\n",
    "elif a%2>0: \n",
    "    print(f\"a={a} и оно нечетное\")\n",
    "    "
   ]
  },
  {
   "cell_type": "code",
   "execution_count": 17,
   "id": "5122d9be",
   "metadata": {},
   "outputs": [
    {
     "name": "stdout",
     "output_type": "stream",
     "text": [
      "текст:привет мир 0\n",
      "текст:привет мир 1\n",
      "текст:привет мир 2\n",
      "текст:привет мир 3\n",
      "текст:привет мир 4\n",
      "текст:привет мир 5\n",
      "текст:привет мир 6\n",
      "текст:привет мир 7\n",
      "текст:привет мир 8\n",
      "текст:привет мир 9\n"
     ]
    }
   ],
   "source": [
    "a=\"привет\"\n",
    "b=\"мир\"\n",
    "for i in range(10):\n",
    "    print(f\"текст:{a} {b} {i}\")"
   ]
  },
  {
   "cell_type": "code",
   "execution_count": 4,
   "id": "eb3f36bd",
   "metadata": {},
   "outputs": [
    {
     "name": "stdout",
     "output_type": "stream",
     "text": [
      "0\n",
      "1\n",
      "2\n",
      "3\n",
      "4\n",
      "5\n",
      "6\n",
      "7\n",
      "8\n",
      "9\n"
     ]
    }
   ],
   "source": [
    "for i in range(10):\n",
    "    print(i)"
   ]
  },
  {
   "cell_type": "code",
   "execution_count": 9,
   "id": "17b100f4",
   "metadata": {},
   "outputs": [
    {
     "name": "stdout",
     "output_type": "stream",
     "text": [
      "1\n",
      "2\n",
      "3\n",
      "4\n",
      "5\n",
      "6\n",
      "7\n",
      "8\n",
      "9\n",
      "\n",
      "1 3 5 7 9 "
     ]
    }
   ],
   "source": [
    "for i in range(1, 10):\n",
    "    print(i)\n",
    "print()\n",
    "for i in range(1, 10, 2):\n",
    "    print(i, end=\" \")"
   ]
  }
 ],
 "metadata": {
  "kernelspec": {
   "display_name": "Python 3 (ipykernel)",
   "language": "python",
   "name": "python3"
  },
  "language_info": {
   "codemirror_mode": {
    "name": "ipython",
    "version": 3
   },
   "file_extension": ".py",
   "mimetype": "text/x-python",
   "name": "python",
   "nbconvert_exporter": "python",
   "pygments_lexer": "ipython3",
   "version": "3.10.7"
  }
 },
 "nbformat": 4,
 "nbformat_minor": 5
}
